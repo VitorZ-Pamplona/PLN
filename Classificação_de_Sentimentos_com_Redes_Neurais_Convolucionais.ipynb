{
  "cells": [
    {
      "cell_type": "markdown",
      "metadata": {},
      "source": [
        "# Projeto PLN - Classificação de Sentimentos com Redes Neurais Convolucionais"
      ]
    },
    {
      "cell_type": "markdown",
      "metadata": {
        "id": "EJ6zhycx-LJa"
      },
      "source": [
        "# Etapa 1: Importação das bibliotecas"
      ]
    },
    {
      "cell_type": "code",
      "execution_count": 1,
      "metadata": {
        "id": "1dfpd7ulxMFP"
      },
      "outputs": [],
      "source": [
        "import numpy as np\n",
        "import math\n",
        "import re\n",
        "import pandas as pd\n",
        "from bs4 import BeautifulSoup\n",
        "import zipfile\n",
        "import seaborn as sns\n",
        "import spacy \n",
        "import string\n",
        "import random\n",
        "import matplotlib.pyplot as plt\n",
        "import nltk\n",
        "\n",
        "import warnings\n",
        "warnings.filterwarnings(\"ignore\")"
      ]
    },
    {
      "cell_type": "code",
      "execution_count": 2,
      "metadata": {
        "colab": {
          "base_uri": "https://localhost:8080/",
          "height": 53
        },
        "id": "0s8u890hxtSl",
        "outputId": "73ff0799-0eab-407d-8b9e-052d3628a12b"
      },
      "outputs": [
        {
          "data": {
            "text/plain": [
              "'2.11.0'"
            ]
          },
          "execution_count": 2,
          "metadata": {},
          "output_type": "execute_result"
        }
      ],
      "source": [
        "import tensorflow as tf\n",
        "tf.__version__"
      ]
    },
    {
      "cell_type": "code",
      "execution_count": 3,
      "metadata": {
        "id": "Z9C_Vycux_4G"
      },
      "outputs": [],
      "source": [
        "from tensorflow.keras import layers\n",
        "import tensorflow_datasets as tfds"
      ]
    },
    {
      "cell_type": "markdown",
      "metadata": {
        "id": "WN8EilQG-cwa"
      },
      "source": [
        "# Etapa 2: Pré-processamento dos dados"
      ]
    },
    {
      "cell_type": "markdown",
      "metadata": {
        "id": "52CTV4_q-hpX"
      },
      "source": [
        "## Carregamento dos arquivos"
      ]
    },
    {
      "cell_type": "code",
      "execution_count": 4,
      "metadata": {
        "id": "GpxO33CEz2wU"
      },
      "outputs": [],
      "source": [
        "cols = ['sentiment', 'id', 'date', 'query', 'user', 'text']"
      ]
    },
    {
      "cell_type": "markdown",
      "metadata": {},
      "source": [
        "### Dataset de Treino"
      ]
    },
    {
      "cell_type": "code",
      "execution_count": 5,
      "metadata": {
        "colab": {
          "base_uri": "https://localhost:8080/",
          "height": 339
        },
        "id": "ABodhV5X0AEP",
        "outputId": "b0444b70-fb87-44fb-8d5e-631fd799738a"
      },
      "outputs": [],
      "source": [
        "train_data = pd.read_csv('train.csv', header = None, names = cols, engine = 'python', encoding = 'latin1')"
      ]
    },
    {
      "cell_type": "code",
      "execution_count": 6,
      "metadata": {
        "colab": {
          "base_uri": "https://localhost:8080/",
          "height": 206
        },
        "id": "-lcG4i170rHC",
        "outputId": "413f7295-1cd2-4c23-bb8c-8619a045c51b"
      },
      "outputs": [
        {
          "data": {
            "text/html": [
              "<div>\n",
              "<style scoped>\n",
              "    .dataframe tbody tr th:only-of-type {\n",
              "        vertical-align: middle;\n",
              "    }\n",
              "\n",
              "    .dataframe tbody tr th {\n",
              "        vertical-align: top;\n",
              "    }\n",
              "\n",
              "    .dataframe thead th {\n",
              "        text-align: right;\n",
              "    }\n",
              "</style>\n",
              "<table border=\"1\" class=\"dataframe\">\n",
              "  <thead>\n",
              "    <tr style=\"text-align: right;\">\n",
              "      <th></th>\n",
              "      <th>sentiment</th>\n",
              "      <th>id</th>\n",
              "      <th>date</th>\n",
              "      <th>query</th>\n",
              "      <th>user</th>\n",
              "      <th>text</th>\n",
              "    </tr>\n",
              "  </thead>\n",
              "  <tbody>\n",
              "    <tr>\n",
              "      <th>0</th>\n",
              "      <td>4</td>\n",
              "      <td>1961154818</td>\n",
              "      <td>Fri May 29 09:04:06 PDT 2009</td>\n",
              "      <td>NO_QUERY</td>\n",
              "      <td>TheMileHighFan</td>\n",
              "      <td>@bareknucks - Great. I'll put something togeth...</td>\n",
              "    </tr>\n",
              "    <tr>\n",
              "      <th>1</th>\n",
              "      <td>4</td>\n",
              "      <td>1991641239</td>\n",
              "      <td>Mon Jun 01 07:24:22 PDT 2009</td>\n",
              "      <td>NO_QUERY</td>\n",
              "      <td>ashleymc</td>\n",
              "      <td>@XtrmistModerate I typically try and do that.....</td>\n",
              "    </tr>\n",
              "    <tr>\n",
              "      <th>2</th>\n",
              "      <td>4</td>\n",
              "      <td>2068079721</td>\n",
              "      <td>Sun Jun 07 13:27:49 PDT 2009</td>\n",
              "      <td>NO_QUERY</td>\n",
              "      <td>TimmyLovesPaige</td>\n",
              "      <td>@mdozois im doing pretty good. Just hanging ou...</td>\n",
              "    </tr>\n",
              "    <tr>\n",
              "      <th>3</th>\n",
              "      <td>0</td>\n",
              "      <td>2285045161</td>\n",
              "      <td>Mon Jun 22 14:38:20 PDT 2009</td>\n",
              "      <td>NO_QUERY</td>\n",
              "      <td>tswei_chen</td>\n",
              "      <td>back in the FTW, the 817, the land that Trader...</td>\n",
              "    </tr>\n",
              "    <tr>\n",
              "      <th>4</th>\n",
              "      <td>4</td>\n",
              "      <td>2003127315</td>\n",
              "      <td>Tue Jun 02 05:56:07 PDT 2009</td>\n",
              "      <td>NO_QUERY</td>\n",
              "      <td>NathalieCaron</td>\n",
              "      <td>@KristinaAwesome Good morning! Don't worry, I ...</td>\n",
              "    </tr>\n",
              "  </tbody>\n",
              "</table>\n",
              "</div>"
            ],
            "text/plain": [
              "   sentiment          id                          date     query  \\\n",
              "0          4  1961154818  Fri May 29 09:04:06 PDT 2009  NO_QUERY   \n",
              "1          4  1991641239  Mon Jun 01 07:24:22 PDT 2009  NO_QUERY   \n",
              "2          4  2068079721  Sun Jun 07 13:27:49 PDT 2009  NO_QUERY   \n",
              "3          0  2285045161  Mon Jun 22 14:38:20 PDT 2009  NO_QUERY   \n",
              "4          4  2003127315  Tue Jun 02 05:56:07 PDT 2009  NO_QUERY   \n",
              "\n",
              "              user                                               text  \n",
              "0   TheMileHighFan  @bareknucks - Great. I'll put something togeth...  \n",
              "1         ashleymc  @XtrmistModerate I typically try and do that.....  \n",
              "2  TimmyLovesPaige  @mdozois im doing pretty good. Just hanging ou...  \n",
              "3       tswei_chen  back in the FTW, the 817, the land that Trader...  \n",
              "4    NathalieCaron  @KristinaAwesome Good morning! Don't worry, I ...  "
            ]
          },
          "execution_count": 6,
          "metadata": {},
          "output_type": "execute_result"
        }
      ],
      "source": [
        "train_data.head()"
      ]
    },
    {
      "cell_type": "markdown",
      "metadata": {},
      "source": [
        "- Rótulo 4 se trata de um sentimento positivo\n",
        "- Rótulo 0 se trata de um sentimento negativo"
      ]
    },
    {
      "cell_type": "code",
      "execution_count": 7,
      "metadata": {
        "colab": {
          "base_uri": "https://localhost:8080/"
        },
        "id": "IH2qPu020S-O",
        "outputId": "1752ab98-33a9-4137-ab1c-d8f4e9a05063"
      },
      "outputs": [
        {
          "name": "stdout",
          "output_type": "stream",
          "text": [
            "Shape do Dataset de Treino --> (100000, 6)\n",
            "Rótulos Únicos -->  (4, 0)\n"
          ]
        }
      ],
      "source": [
        "print(\"Shape do Dataset de Treino -->\",train_data.shape)\n",
        "print(\"Rótulos Únicos --> \", tuple(train_data.sentiment.unique()))"
      ]
    },
    {
      "cell_type": "markdown",
      "metadata": {},
      "source": [
        "- Countplot"
      ]
    },
    {
      "cell_type": "code",
      "execution_count": 8,
      "metadata": {
        "colab": {
          "base_uri": "https://localhost:8080/",
          "height": 334
        },
        "id": "0je-FuRH05dp",
        "outputId": "4a81eaab-3347-4eed-f660-9989e6719e3a"
      },
      "outputs": [
        {
          "data": {
            "image/png": "[encoded data removed]",
            "text/plain": [
              "<Figure size 432x288 with 1 Axes>"
            ]
          },
          "metadata": {
            "needs_background": "light"
          },
          "output_type": "display_data"
        }
      ],
      "source": [
        "sns.countplot(train_data.sentiment);"
      ]
    },
    {
      "cell_type": "markdown",
      "metadata": {},
      "source": [
        "### Dataset de Teste"
      ]
    },
    {
      "cell_type": "code",
      "execution_count": 9,
      "metadata": {
        "id": "u9DsaSa8Lgbz"
      },
      "outputs": [],
      "source": [
        "test_data = pd.read_csv(\"test.csv\", header=None,names=cols,engine=\"python\", encoding=\"latin1\")"
      ]
    },
    {
      "cell_type": "code",
      "execution_count": 10,
      "metadata": {
        "colab": {
          "base_uri": "https://localhost:8080/",
          "height": 206
        },
        "id": "iz4_kdXcNrK_",
        "outputId": "74a2b87e-1f32-4993-8ad2-a650bb67c0cd"
      },
      "outputs": [
        {
          "data": {
            "text/html": [
              "<div>\n",
              "<style scoped>\n",
              "    .dataframe tbody tr th:only-of-type {\n",
              "        vertical-align: middle;\n",
              "    }\n",
              "\n",
              "    .dataframe tbody tr th {\n",
              "        vertical-align: top;\n",
              "    }\n",
              "\n",
              "    .dataframe thead th {\n",
              "        text-align: right;\n",
              "    }\n",
              "</style>\n",
              "<table border=\"1\" class=\"dataframe\">\n",
              "  <thead>\n",
              "    <tr style=\"text-align: right;\">\n",
              "      <th></th>\n",
              "      <th>sentiment</th>\n",
              "      <th>id</th>\n",
              "      <th>date</th>\n",
              "      <th>query</th>\n",
              "      <th>user</th>\n",
              "      <th>text</th>\n",
              "    </tr>\n",
              "  </thead>\n",
              "  <tbody>\n",
              "    <tr>\n",
              "      <th>0</th>\n",
              "      <td>4</td>\n",
              "      <td>3</td>\n",
              "      <td>Mon May 11 03:17:40 UTC 2009</td>\n",
              "      <td>kindle2</td>\n",
              "      <td>tpryan</td>\n",
              "      <td>@stellargirl I loooooooovvvvvveee my Kindle2. ...</td>\n",
              "    </tr>\n",
              "    <tr>\n",
              "      <th>1</th>\n",
              "      <td>4</td>\n",
              "      <td>4</td>\n",
              "      <td>Mon May 11 03:18:03 UTC 2009</td>\n",
              "      <td>kindle2</td>\n",
              "      <td>vcu451</td>\n",
              "      <td>Reading my kindle2...  Love it... Lee childs i...</td>\n",
              "    </tr>\n",
              "    <tr>\n",
              "      <th>2</th>\n",
              "      <td>4</td>\n",
              "      <td>5</td>\n",
              "      <td>Mon May 11 03:18:54 UTC 2009</td>\n",
              "      <td>kindle2</td>\n",
              "      <td>chadfu</td>\n",
              "      <td>Ok, first assesment of the #kindle2 ...it fuck...</td>\n",
              "    </tr>\n",
              "    <tr>\n",
              "      <th>3</th>\n",
              "      <td>4</td>\n",
              "      <td>6</td>\n",
              "      <td>Mon May 11 03:19:04 UTC 2009</td>\n",
              "      <td>kindle2</td>\n",
              "      <td>SIX15</td>\n",
              "      <td>@kenburbary You'll love your Kindle2. I've had...</td>\n",
              "    </tr>\n",
              "    <tr>\n",
              "      <th>4</th>\n",
              "      <td>4</td>\n",
              "      <td>7</td>\n",
              "      <td>Mon May 11 03:21:41 UTC 2009</td>\n",
              "      <td>kindle2</td>\n",
              "      <td>yamarama</td>\n",
              "      <td>@mikefish  Fair enough. But i have the Kindle2...</td>\n",
              "    </tr>\n",
              "  </tbody>\n",
              "</table>\n",
              "</div>"
            ],
            "text/plain": [
              "   sentiment  id                          date    query      user  \\\n",
              "0          4   3  Mon May 11 03:17:40 UTC 2009  kindle2    tpryan   \n",
              "1          4   4  Mon May 11 03:18:03 UTC 2009  kindle2    vcu451   \n",
              "2          4   5  Mon May 11 03:18:54 UTC 2009  kindle2    chadfu   \n",
              "3          4   6  Mon May 11 03:19:04 UTC 2009  kindle2     SIX15   \n",
              "4          4   7  Mon May 11 03:21:41 UTC 2009  kindle2  yamarama   \n",
              "\n",
              "                                                text  \n",
              "0  @stellargirl I loooooooovvvvvveee my Kindle2. ...  \n",
              "1  Reading my kindle2...  Love it... Lee childs i...  \n",
              "2  Ok, first assesment of the #kindle2 ...it fuck...  \n",
              "3  @kenburbary You'll love your Kindle2. I've had...  \n",
              "4  @mikefish  Fair enough. But i have the Kindle2...  "
            ]
          },
          "execution_count": 10,
          "metadata": {},
          "output_type": "execute_result"
        }
      ],
      "source": [
        "test_data.head()"
      ]
    },
    {
      "cell_type": "code",
      "execution_count": 11,
      "metadata": {
        "colab": {
          "base_uri": "https://localhost:8080/"
        },
        "id": "70F6_Qg9Nb20",
        "outputId": "15bcdb67-3fe8-4700-f944-c188aebef6cd"
      },
      "outputs": [
        {
          "name": "stdout",
          "output_type": "stream",
          "text": [
            "Shape do Dataset de Teste --> (498, 6)\n",
            "Rótulos Únicos -->  (4, 0, 2)\n"
          ]
        }
      ],
      "source": [
        "print(\"Shape do Dataset de Teste -->\",test_data.shape)\n",
        "print(\"Rótulos Únicos --> \", tuple(test_data.sentiment.unique()))"
      ]
    },
    {
      "cell_type": "code",
      "execution_count": 12,
      "metadata": {
        "colab": {
          "base_uri": "https://localhost:8080/",
          "height": 334
        },
        "id": "Wr4JUrsPNgi1",
        "outputId": "13deb7c4-ce06-4843-9951-c17079246c63"
      },
      "outputs": [
        {
          "data": {
            "image/png": "[encoded data removed]",
            "text/plain": [
              "<Figure size 432x288 with 1 Axes>"
            ]
          },
          "metadata": {
            "needs_background": "light"
          },
          "output_type": "display_data"
        }
      ],
      "source": [
        "sns.countplot(test_data.sentiment);"
      ]
    },
    {
      "cell_type": "markdown",
      "metadata": {
        "id": "6CsZKJx1-2Ep"
      },
      "source": [
        "## Pré-processamento"
      ]
    },
    {
      "cell_type": "markdown",
      "metadata": {
        "id": "FLWayJ-5-7nN"
      },
      "source": [
        "### Limpeza"
      ]
    },
    {
      "cell_type": "code",
      "execution_count": 13,
      "metadata": {
        "id": "hgcKJ8jo2IAU"
      },
      "outputs": [],
      "source": [
        "data = train_data"
      ]
    },
    {
      "cell_type": "code",
      "execution_count": 14,
      "metadata": {
        "id": "RpgAD42t2VEm"
      },
      "outputs": [],
      "source": [
        "data.drop(['id', 'date', 'query', 'user'], axis = 1, inplace=True)"
      ]
    },
    {
      "cell_type": "code",
      "execution_count": 15,
      "metadata": {
        "colab": {
          "base_uri": "https://localhost:8080/",
          "height": 206
        },
        "id": "-rn747Zk2gwp",
        "outputId": "a8769f4d-2e80-4c48-f1be-053dec004e90"
      },
      "outputs": [
        {
          "data": {
            "text/html": [
              "<div>\n",
              "<style scoped>\n",
              "    .dataframe tbody tr th:only-of-type {\n",
              "        vertical-align: middle;\n",
              "    }\n",
              "\n",
              "    .dataframe tbody tr th {\n",
              "        vertical-align: top;\n",
              "    }\n",
              "\n",
              "    .dataframe thead th {\n",
              "        text-align: right;\n",
              "    }\n",
              "</style>\n",
              "<table border=\"1\" class=\"dataframe\">\n",
              "  <thead>\n",
              "    <tr style=\"text-align: right;\">\n",
              "      <th></th>\n",
              "      <th>sentiment</th>\n",
              "      <th>text</th>\n",
              "    </tr>\n",
              "  </thead>\n",
              "  <tbody>\n",
              "    <tr>\n",
              "      <th>0</th>\n",
              "      <td>4</td>\n",
              "      <td>@bareknucks - Great. I'll put something togeth...</td>\n",
              "    </tr>\n",
              "    <tr>\n",
              "      <th>1</th>\n",
              "      <td>4</td>\n",
              "      <td>@XtrmistModerate I typically try and do that.....</td>\n",
              "    </tr>\n",
              "    <tr>\n",
              "      <th>2</th>\n",
              "      <td>4</td>\n",
              "      <td>@mdozois im doing pretty good. Just hanging ou...</td>\n",
              "    </tr>\n",
              "    <tr>\n",
              "      <th>3</th>\n",
              "      <td>0</td>\n",
              "      <td>back in the FTW, the 817, the land that Trader...</td>\n",
              "    </tr>\n",
              "    <tr>\n",
              "      <th>4</th>\n",
              "      <td>4</td>\n",
              "      <td>@KristinaAwesome Good morning! Don't worry, I ...</td>\n",
              "    </tr>\n",
              "  </tbody>\n",
              "</table>\n",
              "</div>"
            ],
            "text/plain": [
              "   sentiment                                               text\n",
              "0          4  @bareknucks - Great. I'll put something togeth...\n",
              "1          4  @XtrmistModerate I typically try and do that.....\n",
              "2          4  @mdozois im doing pretty good. Just hanging ou...\n",
              "3          0  back in the FTW, the 817, the land that Trader...\n",
              "4          4  @KristinaAwesome Good morning! Don't worry, I ..."
            ]
          },
          "execution_count": 15,
          "metadata": {},
          "output_type": "execute_result"
        }
      ],
      "source": [
        "data.head()"
      ]
    },
    {
      "cell_type": "code",
      "execution_count": 16,
      "metadata": {
        "id": "ufHeTh612mev"
      },
      "outputs": [],
      "source": [
        "X = data.iloc[:, 1].values"
      ]
    },
    {
      "cell_type": "code",
      "execution_count": 17,
      "metadata": {
        "colab": {
          "base_uri": "https://localhost:8080/"
        },
        "id": "8i6-FOPH2zrS",
        "outputId": "f122eece-b929-4482-e6bb-1fdb71f1977c"
      },
      "outputs": [
        {
          "data": {
            "text/plain": [
              "array([\"@bareknucks - Great. I'll put something together and let you know! Go #Nuggets - BTW, I'm the voter in your poll \",\n",
              "       '@XtrmistModerate I typically try and do that....wish I could stop scheduling at Thursday   That would be nice!',\n",
              "       '@mdozois im doing pretty good. Just hanging out at universal in the rain with Paige. Lol. Me and mom have been getting along better now. ',\n",
              "       ...,\n",
              "       '@mac_in_TO  i never been u r part of the world to,we have a lot of canadians here they have their yachts in marina. you should visit. LOL ',\n",
              "       \"@yelyahwilliams I neeeeeed tickets for ur Sunday show n Houston  sold out! I'll make u a sweet deal for tickets LOL just name it u got it\",\n",
              "       \"@guitarscreams me too! i just got the new cd... i'm listening right now. i'm not sure how i feel though yet \"],\n",
              "      dtype=object)"
            ]
          },
          "execution_count": 17,
          "metadata": {},
          "output_type": "execute_result"
        }
      ],
      "source": [
        "X"
      ]
    },
    {
      "cell_type": "code",
      "execution_count": 18,
      "metadata": {
        "colab": {
          "base_uri": "https://localhost:8080/"
        },
        "id": "vxb9dUzY22O7",
        "outputId": "90d5a767-d4cf-4fb0-9fd5-d76910eb0e52"
      },
      "outputs": [
        {
          "data": {
            "text/plain": [
              "(100000,)"
            ]
          },
          "execution_count": 18,
          "metadata": {},
          "output_type": "execute_result"
        }
      ],
      "source": [
        "X.shape"
      ]
    },
    {
      "cell_type": "code",
      "execution_count": 19,
      "metadata": {
        "colab": {
          "base_uri": "https://localhost:8080/"
        },
        "id": "AubTH1vn2_FX",
        "outputId": "fc2a5103-09af-4b59-ca23-435accd8014a"
      },
      "outputs": [
        {
          "data": {
            "text/plain": [
              "array([4, 4, 4, ..., 4, 0, 0], dtype=int64)"
            ]
          },
          "execution_count": 19,
          "metadata": {},
          "output_type": "execute_result"
        }
      ],
      "source": [
        "y = data.iloc[:, 0].values\n",
        "y"
      ]
    },
    {
      "cell_type": "code",
      "execution_count": 20,
      "metadata": {},
      "outputs": [
        {
          "data": {
            "text/plain": [
              "(100000,)"
            ]
          },
          "execution_count": 20,
          "metadata": {},
          "output_type": "execute_result"
        }
      ],
      "source": [
        "y.shape"
      ]
    },
    {
      "cell_type": "code",
      "execution_count": 21,
      "metadata": {
        "colab": {
          "base_uri": "https://localhost:8080/"
        },
        "id": "wt7qG0FC3xMJ",
        "outputId": "f3a3ea0e-9e90-4ca5-fefe-2779efc4b7aa"
      },
      "outputs": [
        {
          "data": {
            "text/plain": [
              "(array([0, 4], dtype=int64), array([50101, 49899], dtype=int64))"
            ]
          },
          "execution_count": 21,
          "metadata": {},
          "output_type": "execute_result"
        }
      ],
      "source": [
        "unique, counts = np.unique(y, return_counts=True)\n",
        "unique, counts"
      ]
    },
    {
      "cell_type": "code",
      "execution_count": 22,
      "metadata": {
        "id": "H7FmwPT14sW-"
      },
      "outputs": [],
      "source": [
        "def clean_tweets(tweet):\n",
        "  \n",
        "  # Utilizando beatifulsoup para pegar os textos dos tweets que estão em formato lxml\n",
        "  tweet = BeautifulSoup(tweet, 'lxml').get_text()\n",
        "  \n",
        "  # Marcações de perfis\n",
        "  tweet = re.sub(r\"@[A-Za-z0-9]+\", ' ', tweet)\n",
        "  \n",
        "  # Links de imagens\n",
        "  tweet = re.sub(r\"https?://[A-Za-z0-9./]+\", ' ', tweet)\n",
        "\n",
        "  # Limpar tudo que não seja texto e essas pontuações\n",
        "  tweet = re.sub(r\"[^a-zA-Z.!?]\", ' ', tweet)\n",
        "\n",
        "  # Limpa alguns caracteres estranhos\n",
        "  tweet = re.sub(r\" +\", ' ', tweet)\n",
        "  return tweet"
      ]
    },
    {
      "cell_type": "markdown",
      "metadata": {},
      "source": [
        "### Exemplificação da Limpeza"
      ]
    },
    {
      "cell_type": "code",
      "execution_count": 23,
      "metadata": {
        "id": "cHmUE8DZOOUR"
      },
      "outputs": [],
      "source": [
        "text = \"@switchfoot http://twitpic.com/2y1zl - Awww, that's a bummer.  2 You shoulda got David Carr of Third Day to do it. ;D\""
      ]
    },
    {
      "cell_type": "code",
      "execution_count": 24,
      "metadata": {
        "colab": {
          "base_uri": "https://localhost:8080/",
          "height": 35
        },
        "id": "MP-hnjvy5BIC",
        "outputId": "109da186-974b-4273-c879-e4f8610adbe5"
      },
      "outputs": [
        {
          "data": {
            "text/plain": [
              "' Awww that s a bummer. You shoulda got David Carr of Third Day to do it. D'"
            ]
          },
          "execution_count": 24,
          "metadata": {},
          "output_type": "execute_result"
        }
      ],
      "source": [
        "text = clean_tweets(text)\n",
        "text"
      ]
    },
    {
      "cell_type": "markdown",
      "metadata": {},
      "source": [
        "### Carregando vocabulário do spaCy em English"
      ]
    },
    {
      "cell_type": "code",
      "execution_count": 31,
      "metadata": {
        "colab": {
          "base_uri": "https://localhost:8080/"
        },
        "id": "hRBQX0f27WDf",
        "outputId": "841b616b-ef01-44d5-9c3b-7f5db7f9fc0a"
      },
      "outputs": [],
      "source": [
        "nlp = spacy.load('en_core_web_sm')"
      ]
    },
    {
      "cell_type": "markdown",
      "metadata": {},
      "source": [
        "### Carregando stopwords do spaCy"
      ]
    },
    {
      "cell_type": "code",
      "execution_count": 32,
      "metadata": {
        "id": "as-SxDtI7sBP"
      },
      "outputs": [],
      "source": [
        "stop_words = spacy.lang.en.STOP_WORDS"
      ]
    },
    {
      "cell_type": "code",
      "execution_count": 37,
      "metadata": {
        "colab": {
          "base_uri": "https://localhost:8080/"
        },
        "id": "s3O0rC3u7xyN",
        "outputId": "726adfbf-021c-48af-f0e0-df4ede230e49"
      },
      "outputs": [
        {
          "name": "stdout",
          "output_type": "stream",
          "text": [
            "{'sometimes', 'hundred', 'becomes', 'more', 'before', 'empty', 'beside', 'should', 'twenty', 'none', 'besides', 'thence', 'serious', 'myself', 'ours', 'call', 'few', 'had', 'to', 'through', 'thus', 'ca', 'neither', 'are', 'against', 'there', 'those', 'thereupon', 'forty', 'meanwhile', 'amount', 'was', 'enough', 'behind', \"n't\", 'seemed', 'give', 'other', 'their', 'though', 'doing', 'must', 'something', 'whereas', 'although', 'himself', 'even', '‘m', 'whom', 'until', 'rather', 'sixty', 'still', 'top', 'however', 'almost', 'themselves', 'go', 'them', 'same', '‘d', 'n‘t', 'all', 'always', 'just', 'whenever', 'across', 'much', 'the', 'someone', 'without', 'bottom', 'us', 'nobody', 'off', 'unless', 'another', 'i', 'along', 'seeming', 'please', 'would', 'often', 'became', 'together', 'whether', 'or', 'wherever', 'mostly', 'has', 'never', 'too', 'twelve', 'again', 'its', 'somewhere', 'two', 'am', 'have', 'beforehand', 'not', 'others', 'both', 'within', 'otherwise', 'up', '’d', 'seems', 'becoming', 'as', 'being', 'anyway', 'a', '’s', 'everyone', 'front', 'we', 'may', 'my', 'get', '‘s', 'were', 'indeed', 'n’t', 'what', 'name', 'does', 'anything', 'either', 'been', 'if', 'nothing', 'but', 'moreover', 'third', 'into', 'under', 'these', 'here', 'namely', 'over', 'an', 'they', 'towards', 'herself', 'whereafter', 'see', 'nor', 'latterly', 'four', 'well', 'several', \"'re\", 'also', 'quite', 'cannot', '‘re', 'some', \"'ve\", '’ve', 'five', 'for', 'made', 'ten', 'eight', 'perhaps', 'already', 'nine', 'any', 'every', 'about', 'above', 'fifty', 'thru', 'alone', 'anyhow', 'can', 'everywhere', 'now', \"'m\", 'one', 'with', 'due', 'is', 'take', 'yours', 'whatever', 'whereupon', 'your', 'part', 'most', 'who', \"'ll\", 'between', 'once', 'really', 'whereby', 'sometime', 'next', 'many', 'latter', 'and', 'did', 'so', 'except', 'might', 'ourselves', 'last', 'else', 'used', 'first', '‘ll', '’m', 'by', 'elsewhere', '’re', 'side', 'thereby', 'itself', 'afterwards', 'therein', 'yourself', 're', 'her', 'become', 'be', 'somehow', 'noone', 'hers', 'per', 'therefore', 'wherein', 'during', 'done', 'using', 'only', 'below', 'onto', 'beyond', 'hereafter', 'fifteen', 'three', 'him', 'everything', 'how', 'whoever', 'me', 'it', 'because', 'you', 'each', 'our', 'amongst', 'herein', 'six', 'while', 'own', 'anywhere', 'formerly', '’ll', 'move', 'that', 'nowhere', 'he', 'from', 'hereby', 'do', 'thereafter', 'out', 'whose', 'various', 'his', 'least', 'very', 'whence', 'could', 'where', 'this', 'upon', 'among', 'make', 'via', 'anyone', 'put', 'hence', 'whole', 'regarding', 'throughout', 'which', 'in', 'will', 'when', 'less', 'keep', 'nevertheless', 'on', 'show', 'such', 'why', 'full', 'back', 'further', 'than', 'yourselves', '‘ve', 'eleven', 'she', 'since', 'at', 'after', 'ever', 'down', 'yet', 'former', \"'s\", 'then', 'mine', 'whither', 'no', 'around', 'say', 'seem', 'hereupon', \"'d\", 'of', 'toward'}\n",
            "326\n"
          ]
        }
      ],
      "source": [
        "print(stop_words)\n",
        "print(len(stop_words))"
      ]
    },
    {
      "cell_type": "markdown",
      "metadata": {},
      "source": [
        "### Carregando pontuações"
      ]
    },
    {
      "cell_type": "code",
      "execution_count": 35,
      "metadata": {
        "colab": {
          "base_uri": "https://localhost:8080/",
          "height": 35
        },
        "id": "vGHvLXiJ9qQC",
        "outputId": "f5cef03b-94b5-4c40-a415-809eb598318a"
      },
      "outputs": [
        {
          "data": {
            "text/plain": [
              "'!\"#$%&\\'()*+,-./:;<=>?@[\\\\]^_`{|}~'"
            ]
          },
          "execution_count": 35,
          "metadata": {},
          "output_type": "execute_result"
        }
      ],
      "source": [
        "string.punctuation"
      ]
    },
    {
      "cell_type": "code",
      "execution_count": 38,
      "metadata": {
        "id": "Zk-HcIoT7-hh"
      },
      "outputs": [],
      "source": [
        "def clean_tweets2(tweet):\n",
        "  \n",
        "  # Coloca tudo para minusculo\n",
        "  tweet = tweet.lower()\n",
        "\n",
        "  # Transforma o texto em uma váriavel do modelo em inglês do spaCy para conseguir tokenizar\n",
        "  document = nlp(tweet)\n",
        "\n",
        "  # Tokenizando\n",
        "  words = []\n",
        "  for token in document:\n",
        "    words.append(token.text)\n",
        "\n",
        "  # Limpeza para remover stopwords em inglês e também as pontuações\n",
        "  words = [word for word in words if word not in stop_words and word not in string.punctuation]\n",
        "  words = ' '.join([str(element) for element in words])\n",
        "\n",
        "  return words"
      ]
    },
    {
      "cell_type": "code",
      "execution_count": null,
      "metadata": {
        "id": "kCereV1KRpci"
      },
      "outputs": [],
      "source": [
        "# Awww that's a bummer. You shoulda got David Carr of Third Day to do it. D\""
      ]
    },
    {
      "cell_type": "code",
      "execution_count": 39,
      "metadata": {
        "colab": {
          "base_uri": "https://localhost:8080/",
          "height": 35
        },
        "id": "JNvx3x408hTK",
        "outputId": "eaceb251-ef94-46a2-a10a-c8bf073cb6a9"
      },
      "outputs": [
        {
          "data": {
            "text/plain": [
              "'  awww s bummer shoulda got david carr day d'"
            ]
          },
          "execution_count": 39,
          "metadata": {},
          "output_type": "execute_result"
        }
      ],
      "source": [
        "text2 = clean_tweets2(text)\n",
        "text2"
      ]
    },
    {
      "cell_type": "markdown",
      "metadata": {},
      "source": [
        "### Limpa tudo"
      ]
    },
    {
      "cell_type": "code",
      "execution_count": 40,
      "metadata": {
        "colab": {
          "base_uri": "https://localhost:8080/",
          "height": 484
        },
        "id": "L6eJcZog-Ze1",
        "outputId": "182940cf-147a-4c29-de61-1e457ad50ffa"
      },
      "outputs": [],
      "source": [
        "data_clean = [clean_tweets2(clean_tweets(tweet)) for tweet in X]"
      ]
    },
    {
      "cell_type": "markdown",
      "metadata": {},
      "source": [
        "### Atribuindo as labels e mudando a categoria de label número 4 (positivo) para o número 1"
      ]
    },
    {
      "cell_type": "code",
      "execution_count": 42,
      "metadata": {
        "id": "NHDdk6OyKPTF"
      },
      "outputs": [],
      "source": [
        "data_labels = y"
      ]
    },
    {
      "cell_type": "code",
      "execution_count": 43,
      "metadata": {
        "id": "sCwBVu_-KS6x"
      },
      "outputs": [],
      "source": [
        "data_labels[data_labels == 4] = 1"
      ]
    },
    {
      "cell_type": "code",
      "execution_count": 44,
      "metadata": {
        "id": "HnEu3ydNKdtW"
      },
      "outputs": [
        {
          "data": {
            "text/plain": [
              "array([1, 1, 1, ..., 1, 0, 0], dtype=int64)"
            ]
          },
          "execution_count": 44,
          "metadata": {},
          "output_type": "execute_result"
        }
      ],
      "source": [
        "data_labels"
      ]
    },
    {
      "cell_type": "code",
      "execution_count": 45,
      "metadata": {
        "id": "amKqM8FjKgT-"
      },
      "outputs": [
        {
          "data": {
            "text/plain": [
              "array([0, 1], dtype=int64)"
            ]
          },
          "execution_count": 45,
          "metadata": {},
          "output_type": "execute_result"
        }
      ],
      "source": [
        "np.unique(data_labels)"
      ]
    },
    {
      "cell_type": "markdown",
      "metadata": {
        "id": "GTKZ5fUh_Kxz"
      },
      "source": [
        "### Tokenização"
      ]
    },
    {
      "cell_type": "code",
      "execution_count": 46,
      "metadata": {
        "id": "s55Dd-UqNncW"
      },
      "outputs": [
        {
          "data": {
            "text/plain": [
              "65536.0"
            ]
          },
          "execution_count": 46,
          "metadata": {},
          "output_type": "execute_result"
        }
      ],
      "source": [
        "import math\n",
        "math.pow(2, 16)"
      ]
    },
    {
      "cell_type": "markdown",
      "metadata": {},
      "source": [
        "- O valor 2^16 (65536) é frequentemente escolhido como um valor padrão porque oferece uma boa capacidade de representação de texto para muitos casos de uso comuns."
      ]
    },
    {
      "cell_type": "code",
      "execution_count": 48,
      "metadata": {
        "id": "dwE2jYo2MkaZ"
      },
      "outputs": [],
      "source": [
        "tokenizer = tfds.deprecated.text.SubwordTextEncoder.build_from_corpus(data_clean, target_vocab_size=2**16)"
      ]
    },
    {
      "cell_type": "code",
      "execution_count": 49,
      "metadata": {
        "id": "CV2y2U1gOl2W"
      },
      "outputs": [
        {
          "data": {
            "text/plain": [
              "65511"
            ]
          },
          "execution_count": 49,
          "metadata": {},
          "output_type": "execute_result"
        }
      ],
      "source": [
        "tokenizer.vocab_size"
      ]
    },
    {
      "cell_type": "code",
      "execution_count": 51,
      "metadata": {
        "id": "T4rCT4zrPF1P"
      },
      "outputs": [
        {
          "data": {
            "text/plain": [
              "[573, 18428, 362]"
            ]
          },
          "execution_count": 51,
          "metadata": {},
          "output_type": "execute_result"
        }
      ],
      "source": [
        "ids = tokenizer.encode('i am happy')\n",
        "ids"
      ]
    },
    {
      "cell_type": "code",
      "execution_count": 52,
      "metadata": {
        "id": "4H4_8IzRPSlB"
      },
      "outputs": [
        {
          "data": {
            "text/plain": [
              "'i am happy'"
            ]
          },
          "execution_count": 52,
          "metadata": {},
          "output_type": "execute_result"
        }
      ],
      "source": [
        "text = tokenizer.decode(ids)\n",
        "text"
      ]
    },
    {
      "cell_type": "code",
      "execution_count": 53,
      "metadata": {
        "id": "Wix-FNg1PYij"
      },
      "outputs": [],
      "source": [
        "data_inputs = [tokenizer.encode(sentence) for sentence in data_clean]"
      ]
    },
    {
      "cell_type": "markdown",
      "metadata": {
        "id": "Ysb2uib8n6b3"
      },
      "source": [
        "### Padding ( Completar os vetores pra ficar do mesmo tamanho)"
      ]
    },
    {
      "cell_type": "code",
      "execution_count": 55,
      "metadata": {
        "id": "xTRmL5MAP4iT"
      },
      "outputs": [
        {
          "data": {
            "text/plain": [
              "61"
            ]
          },
          "execution_count": 55,
          "metadata": {},
          "output_type": "execute_result"
        }
      ],
      "source": [
        "max_len = max([len(sentence) for sentence in data_inputs])\n",
        "max_len"
      ]
    },
    {
      "cell_type": "code",
      "execution_count": 56,
      "metadata": {
        "id": "lT02JMV1QWLZ"
      },
      "outputs": [],
      "source": [
        "data_inputs = tf.keras.preprocessing.sequence.pad_sequences(data_inputs,\n",
        "                                                            value = 0,\n",
        "                                                            padding = 'post',\n",
        "                                                            maxlen=max_len)"
      ]
    },
    {
      "cell_type": "code",
      "execution_count": 57,
      "metadata": {
        "id": "E5X5g9IPQtZV"
      },
      "outputs": [
        {
          "name": "stdout",
          "output_type": "stream",
          "text": [
            "[    1     2  3299    91   242 10771   158   157     0     0     0     0\n",
            "     0     0     0     0     0     0     0     0     0     0     0     0\n",
            "     0     0     0     0     0     0     0     0     0     0     0     0\n",
            "     0     0     0     0     0     0     0     0     0     0     0     0\n",
            "     0     0     0     0     0     0     0     0     0     0     0     0\n",
            "     0]\n",
            "[920   5 295 715   0   0   0   0   0   0   0   0   0   0   0   0   0   0\n",
            "   0   0   0   0   0   0   0   0   0   0   0   0   0   0   0   0   0   0\n",
            "   0   0   0   0   0   0   0   0   0   0   0   0   0   0   0   0   0   0\n",
            "   0   0   0   0   0   0   0]\n",
            "[    1 24632    52     0     0     0     0     0     0     0     0     0\n",
            "     0     0     0     0     0     0     0     0     0     0     0     0\n",
            "     0     0     0     0     0     0     0     0     0     0     0     0\n",
            "     0     0     0     0     0     0     0     0     0     0     0     0\n",
            "     0     0     0     0     0     0     0     0     0     0     0     0\n",
            "     0]\n",
            "[   45  1640  2587 23590 11356  5089  1673     0     0     0     0     0\n",
            "     0     0     0     0     0     0     0     0     0     0     0     0\n",
            "     0     0     0     0     0     0     0     0     0     0     0     0\n",
            "     0     0     0     0     0     0     0     0     0     0     0     0\n",
            "     0     0     0     0     0     0     0     0     0     0     0     0\n",
            "     0]\n",
            "[27328 65287   709  2553     0     0     0     0     0     0     0     0\n",
            "     0     0     0     0     0     0     0     0     0     0     0     0\n",
            "     0     0     0     0     0     0     0     0     0     0     0     0\n",
            "     0     0     0     0     0     0     0     0     0     0     0     0\n",
            "     0     0     0     0     0     0     0     0     0     0     0     0\n",
            "     0]\n",
            "[14306   467     0     0     0     0     0     0     0     0     0     0\n",
            "     0     0     0     0     0     0     0     0     0     0     0     0\n",
            "     0     0     0     0     0     0     0     0     0     0     0     0\n",
            "     0     0     0     0     0     0     0     0     0     0     0     0\n",
            "     0     0     0     0     0     0     0     0     0     0     0     0\n",
            "     0]\n",
            "[  45   95 1915  206   57  144  272  125   75  160 1503 1081    0    0\n",
            "    0    0    0    0    0    0    0    0    0    0    0    0    0    0\n",
            "    0    0    0    0    0    0    0    0    0    0    0    0    0    0\n",
            "    0    0    0    0    0    0    0    0    0    0    0    0    0    0\n",
            "    0    0    0    0    0]\n",
            "[  14    4   57    3   44   43   13 6676  147   11   66  130  172   93\n",
            "    0    0    0    0    0    0    0    0    0    0    0    0    0    0\n",
            "    0    0    0    0    0    0    0    0    0    0    0    0    0    0\n",
            "    0    0    0    0    0    0    0    0    0    0    0    0    0    0\n",
            "    0    0    0    0    0]\n",
            "[ 40 392  59  30 135 141   0   0   0   0   0   0   0   0   0   0   0   0\n",
            "   0   0   0   0   0   0   0   0   0   0   0   0   0   0   0   0   0   0\n",
            "   0   0   0   0   0   0   0   0   0   0   0   0   0   0   0   0   0   0\n",
            "   0   0   0   0   0   0   0]\n",
            "[16121  4094   309   455    79     4   312   291 32046     5   378    96\n",
            "    17     0     0     0     0     0     0     0     0     0     0     0\n",
            "     0     0     0     0     0     0     0     0     0     0     0     0\n",
            "     0     0     0     0     0     0     0     0     0     0     0     0\n",
            "     0     0     0     0     0     0     0     0     0     0     0     0\n",
            "     0]\n"
          ]
        }
      ],
      "source": [
        "for _ in range(10):\n",
        "  print(data_inputs[random.randint(0, len(data_inputs) - 1)])"
      ]
    },
    {
      "cell_type": "markdown",
      "metadata": {
        "id": "T4Ac7EXNNblp"
      },
      "source": [
        "### Divisão da base de dados em treinamento e teste\n",
        "\n"
      ]
    },
    {
      "cell_type": "code",
      "execution_count": 58,
      "metadata": {
        "id": "PsKVKiSzRnw-"
      },
      "outputs": [],
      "source": [
        "from sklearn.model_selection import train_test_split\n",
        "train_inputs, test_inputs, train_labels, test_labels = train_test_split(data_inputs,\n",
        "                                                                        data_labels,\n",
        "                                                                        test_size=0.3,\n",
        "                                                                        stratify = data_labels)"
      ]
    },
    {
      "cell_type": "code",
      "execution_count": 60,
      "metadata": {
        "id": "NOcpln8ySYG6"
      },
      "outputs": [
        {
          "data": {
            "text/plain": [
              "(70000, 61)"
            ]
          },
          "execution_count": 60,
          "metadata": {},
          "output_type": "execute_result"
        }
      ],
      "source": [
        "train_inputs.shape"
      ]
    },
    {
      "cell_type": "code",
      "execution_count": 61,
      "metadata": {
        "id": "O7UxvSamScbx"
      },
      "outputs": [
        {
          "data": {
            "text/plain": [
              "(70000,)"
            ]
          },
          "execution_count": 61,
          "metadata": {},
          "output_type": "execute_result"
        }
      ],
      "source": [
        "train_labels.shape"
      ]
    },
    {
      "cell_type": "code",
      "execution_count": 62,
      "metadata": {
        "id": "HVnuy5MQShQ7"
      },
      "outputs": [
        {
          "data": {
            "text/plain": [
              "(30000, 61)"
            ]
          },
          "execution_count": 62,
          "metadata": {},
          "output_type": "execute_result"
        }
      ],
      "source": [
        "test_inputs.shape"
      ]
    },
    {
      "cell_type": "code",
      "execution_count": 63,
      "metadata": {
        "id": "xBH05YZrSm2h"
      },
      "outputs": [
        {
          "data": {
            "text/plain": [
              "(30000,)"
            ]
          },
          "execution_count": 63,
          "metadata": {},
          "output_type": "execute_result"
        }
      ],
      "source": [
        "test_labels.shape"
      ]
    },
    {
      "cell_type": "markdown",
      "metadata": {
        "id": "kWu6hLDG_UJZ"
      },
      "source": [
        "# Etapa 3: Construção do modelo"
      ]
    },
    {
      "cell_type": "code",
      "execution_count": 64,
      "metadata": {
        "id": "xEATIsKmTFs3"
      },
      "outputs": [],
      "source": [
        "class DCNN(tf.keras.Model):\n",
        "\n",
        "\n",
        "  def __init__(self,\n",
        "               vocab_size,\n",
        "               emb_dim=128,\n",
        "               nb_filters=50,\n",
        "               ffn_units=512,\n",
        "               nb_classes=2,\n",
        "               dropout_rate=0.1,\n",
        "               training=True,\n",
        "               name=\"dcnn\"):\n",
        "    super(DCNN, self).__init__(name=name)\n",
        "\n",
        "    # Camadas de Embeddings, vulgo camada de entrada\n",
        "    self.embedding = layers.Embedding(vocab_size, emb_dim)\n",
        "\n",
        "    # Primeira camada de Convolução para os bigramas, usando o kernel_size = 2 por ser de bigramas, padding = 'same' por se tratar de vetores do mesmo tamanho\n",
        "    self.bigram = layers.Conv1D(filters=nb_filters, kernel_size=2, padding='same', activation='relu')\n",
        "\n",
        "    self.trigram = layers.Conv1D(filters=nb_filters, kernel_size=3, padding='same', activation='relu')\n",
        "\n",
        "    self.fourgram = layers.Conv1D(filters=nb_filters, kernel_size=4, padding='same', activation='relu')\n",
        "\n",
        "    # Camada de redimensionamento que puxam as caracteristicas mais importantes\n",
        "    self.pool = layers.GlobalMaxPool1D()\n",
        "\n",
        "    # Primeira camada Densa com a quantidade de \"neuronios\" que é parametrizada no ffn_units\n",
        "    self.dense_1 = layers.Dense(units = ffn_units, activation = 'relu')\n",
        "    \n",
        "    # Camada para dropar alguns \"neuronios\" para evitar overfitting no modelo\n",
        "    self.dropout = layers.Dropout(rate = dropout_rate)\n",
        "\n",
        "    # Ultima camda Densa, que vai ser camada de saída do modelo \n",
        "    if nb_classes == 2:\n",
        "      self.last_dense = layers.Dense(units = 1, activation = 'sigmoid')\n",
        "    else:\n",
        "      self.last_dense = layers.Dense(units = nb_classes, activation = 'softmax')\n",
        "\n",
        "  # Chamando as funções que foram criadas na Rede Neural\n",
        "  def call(self, inputs, training):\n",
        "    x = self.embedding(inputs)\n",
        "    x_1 = self.bigram(x)\n",
        "    x_1 = self.pool(x_1)\n",
        "    x_2 = self.trigram(x)\n",
        "    x_2 = self.pool(x_2)\n",
        "    x_3 = self.fourgram(x)\n",
        "    x_3 = self.pool(x_3)\n",
        "\n",
        "    merged = tf.concat([x_1, x_2, x_3], axis = -1) # (batch_size, 3 * nb_filters)\n",
        "    merged = self.dense_1(merged)\n",
        "    merged = self.dropout(merged, training)\n",
        "    output = self.last_dense(merged)\n",
        "\n",
        "    return output"
      ]
    },
    {
      "cell_type": "markdown",
      "metadata": {
        "id": "92XbAZ9E1AMS"
      },
      "source": [
        "# Etapa 4: Treinamento"
      ]
    },
    {
      "cell_type": "markdown",
      "metadata": {
        "id": "B8cfYwHME-m0"
      },
      "source": [
        "## Configuração dos parâmetros"
      ]
    },
    {
      "cell_type": "code",
      "execution_count": 65,
      "metadata": {
        "id": "5VNPb5mFZsC8"
      },
      "outputs": [
        {
          "data": {
            "text/plain": [
              "65511"
            ]
          },
          "execution_count": 65,
          "metadata": {},
          "output_type": "execute_result"
        }
      ],
      "source": [
        "vocab_size = tokenizer.vocab_size\n",
        "vocab_size"
      ]
    },
    {
      "cell_type": "code",
      "execution_count": 66,
      "metadata": {
        "id": "0MVJ_3QRZ3Nn"
      },
      "outputs": [
        {
          "data": {
            "text/plain": [
              "2"
            ]
          },
          "execution_count": 66,
          "metadata": {},
          "output_type": "execute_result"
        }
      ],
      "source": [
        "emb_dim = 200\n",
        "nb_filters = 100\n",
        "ffn_units = 256\n",
        "batch_size = 64\n",
        "nb_classes = len(set(train_labels))\n",
        "nb_classes"
      ]
    },
    {
      "cell_type": "code",
      "execution_count": 67,
      "metadata": {
        "id": "ntBWbJPZaUng"
      },
      "outputs": [],
      "source": [
        "dropout_rate = 0.2\n",
        "nb_epochs = 5"
      ]
    },
    {
      "cell_type": "markdown",
      "metadata": {
        "id": "Nddzr1kA7UHC"
      },
      "source": [
        "## Treinamento"
      ]
    },
    {
      "cell_type": "code",
      "execution_count": 68,
      "metadata": {
        "id": "yjSh-7HNaxX3"
      },
      "outputs": [],
      "source": [
        "Dcnn = DCNN(vocab_size=vocab_size, emb_dim=emb_dim, nb_filters=nb_filters,\n",
        "            ffn_units=ffn_units, nb_classes=nb_classes, dropout_rate=dropout_rate)"
      ]
    },
    {
      "cell_type": "code",
      "execution_count": 69,
      "metadata": {
        "id": "j_Gj5koycHqd"
      },
      "outputs": [],
      "source": [
        "if nb_classes == 2:\n",
        "  Dcnn.compile(loss='binary_crossentropy', optimizer='adam', metrics=['accuracy'])\n",
        "else:\n",
        "  Dcnn.compile(loss='sparse_categorical_crossentropy', optimizer='adam', metrics=['accuracy'])"
      ]
    },
    {
      "cell_type": "code",
      "execution_count": 70,
      "metadata": {
        "id": "L5s8GUMncejB"
      },
      "outputs": [],
      "source": [
        "checkpoint_path = \"./\"\n",
        "ckpt = tf.train.Checkpoint(Dcnn=Dcnn)\n",
        "ckpt_manager = tf.train.CheckpointManager(ckpt, checkpoint_path, max_to_keep=5)\n",
        "if ckpt_manager.latest_checkpoint:\n",
        "  ckpt.restore(ckpt_manager.latest_checkpoint)\n",
        "  print('Latest checkpoint restored')"
      ]
    },
    {
      "cell_type": "code",
      "execution_count": 71,
      "metadata": {
        "id": "02etzYLydVEi"
      },
      "outputs": [
        {
          "name": "stdout",
          "output_type": "stream",
          "text": [
            "Epoch 1/5\n",
            "985/985 [==============================] - 292s 295ms/step - loss: 0.5250 - accuracy: 0.7338 - val_loss: 0.4961 - val_accuracy: 0.7491\n",
            "Epoch 2/5\n",
            "985/985 [==============================] - 292s 296ms/step - loss: 0.3344 - accuracy: 0.8555 - val_loss: 0.5762 - val_accuracy: 0.7426\n",
            "Epoch 3/5\n",
            "985/985 [==============================] - 287s 291ms/step - loss: 0.1404 - accuracy: 0.9446 - val_loss: 0.8165 - val_accuracy: 0.7237\n",
            "Epoch 4/5\n",
            "985/985 [==============================] - 294s 299ms/step - loss: 0.0640 - accuracy: 0.9739 - val_loss: 1.0260 - val_accuracy: 0.7061\n",
            "Epoch 5/5\n",
            "985/985 [==============================] - 291s 296ms/step - loss: 0.0409 - accuracy: 0.9830 - val_loss: 1.4170 - val_accuracy: 0.7284\n"
          ]
        },
        {
          "data": {
            "text/plain": [
              "'./ckpt-1'"
            ]
          },
          "execution_count": 71,
          "metadata": {},
          "output_type": "execute_result"
        }
      ],
      "source": [
        "history = Dcnn.fit(train_inputs, train_labels,\n",
        "                   batch_size = batch_size,\n",
        "                   epochs = nb_epochs,\n",
        "                   verbose = 1,\n",
        "                   validation_split = 0.10)\n",
        "ckpt_manager.save()"
      ]
    },
    {
      "cell_type": "markdown",
      "metadata": {
        "id": "16Gn6JhJKXDK"
      },
      "source": [
        "# Etapa 5: Avaliação do modelo"
      ]
    },
    {
      "cell_type": "markdown",
      "metadata": {
        "id": "5s8GGVE11r2z"
      },
      "source": [
        "## Avaliação"
      ]
    },
    {
      "cell_type": "code",
      "execution_count": 72,
      "metadata": {
        "id": "_2saJAr81TUy"
      },
      "outputs": [
        {
          "name": "stdout",
          "output_type": "stream",
          "text": [
            "469/469 [==============================] - 4s 8ms/step - loss: 1.4006 - accuracy: 0.7262\n",
            "[1.4005699157714844, 0.7262333035469055]\n"
          ]
        }
      ],
      "source": [
        "results = Dcnn.evaluate(test_inputs, test_labels, batch_size=batch_size)\n",
        "print(results)"
      ]
    },
    {
      "cell_type": "code",
      "execution_count": 73,
      "metadata": {
        "id": "LNM3RVwO11Ph"
      },
      "outputs": [
        {
          "name": "stdout",
          "output_type": "stream",
          "text": [
            "938/938 [==============================] - 4s 4ms/step\n"
          ]
        }
      ],
      "source": [
        "y_pred_test = Dcnn.predict(test_inputs)"
      ]
    },
    {
      "cell_type": "code",
      "execution_count": 74,
      "metadata": {
        "id": "dwYfU4bA19yZ"
      },
      "outputs": [
        {
          "data": {
            "text/plain": [
              "array([[0.11843121],\n",
              "       [0.898648  ],\n",
              "       [0.9999943 ],\n",
              "       ...,\n",
              "       [0.00238468],\n",
              "       [0.9999163 ],\n",
              "       [0.9999999 ]], dtype=float32)"
            ]
          },
          "execution_count": 74,
          "metadata": {},
          "output_type": "execute_result"
        }
      ],
      "source": [
        "y_pred_test"
      ]
    },
    {
      "cell_type": "code",
      "execution_count": 75,
      "metadata": {
        "id": "cr3rYEy72Ps4"
      },
      "outputs": [],
      "source": [
        "y_pred_test = (y_pred_test > 0.5)"
      ]
    },
    {
      "cell_type": "code",
      "execution_count": 76,
      "metadata": {
        "id": "LIT82QfF2bNV"
      },
      "outputs": [
        {
          "data": {
            "text/plain": [
              "array([[False],\n",
              "       [ True],\n",
              "       [ True],\n",
              "       ...,\n",
              "       [False],\n",
              "       [ True],\n",
              "       [ True]])"
            ]
          },
          "execution_count": 76,
          "metadata": {},
          "output_type": "execute_result"
        }
      ],
      "source": [
        "y_pred_test"
      ]
    },
    {
      "cell_type": "code",
      "execution_count": 77,
      "metadata": {
        "id": "sXthDpw92eig"
      },
      "outputs": [
        {
          "data": {
            "text/plain": [
              "array([0, 1, 1, ..., 0, 1, 1], dtype=int64)"
            ]
          },
          "execution_count": 77,
          "metadata": {},
          "output_type": "execute_result"
        }
      ],
      "source": [
        "test_labels"
      ]
    },
    {
      "cell_type": "code",
      "execution_count": 85,
      "metadata": {
        "id": "hlLBYrco2oQp"
      },
      "outputs": [
        {
          "data": {
            "text/plain": [
              "array([[10980,  4050],\n",
              "       [ 4163, 10807]], dtype=int64)"
            ]
          },
          "execution_count": 85,
          "metadata": {},
          "output_type": "execute_result"
        }
      ],
      "source": [
        "from sklearn.metrics import confusion_matrix, accuracy_score, classification_report\n",
        "cm = confusion_matrix(test_labels, y_pred_test)\n",
        "cm"
      ]
    },
    {
      "cell_type": "code",
      "execution_count": 89,
      "metadata": {},
      "outputs": [
        {
          "name": "stdout",
          "output_type": "stream",
          "text": [
            "              precision    recall  f1-score   support\n",
            "\n",
            "           0       0.73      0.73      0.73     15030\n",
            "           1       0.73      0.72      0.72     14970\n",
            "\n",
            "    accuracy                           0.73     30000\n",
            "   macro avg       0.73      0.73      0.73     30000\n",
            "weighted avg       0.73      0.73      0.73     30000\n",
            "\n"
          ]
        }
      ],
      "source": [
        "print(classification_report(test_labels, y_pred_test))"
      ]
    },
    {
      "cell_type": "code",
      "execution_count": 79,
      "metadata": {
        "id": "xBuMH2CC24Gf"
      },
      "outputs": [
        {
          "data": {
            "text/plain": [
              "<AxesSubplot:>"
            ]
          },
          "execution_count": 79,
          "metadata": {},
          "output_type": "execute_result"
        },
        {
          "data": {
            "image/png": "[encoded data removed]",
            "text/plain": [
              "<Figure size 432x288 with 2 Axes>"
            ]
          },
          "metadata": {
            "needs_background": "light"
          },
          "output_type": "display_data"
        }
      ],
      "source": [
        "sns.heatmap(cm, annot=True)"
      ]
    },
    {
      "cell_type": "code",
      "execution_count": 80,
      "metadata": {
        "id": "soGrESYl3TH4"
      },
      "outputs": [
        {
          "data": {
            "text/plain": [
              "dict_keys(['loss', 'accuracy', 'val_loss', 'val_accuracy'])"
            ]
          },
          "execution_count": 80,
          "metadata": {},
          "output_type": "execute_result"
        }
      ],
      "source": [
        "history.history.keys()"
      ]
    },
    {
      "cell_type": "code",
      "execution_count": 81,
      "metadata": {
        "id": "EyfSXNtR3dGp"
      },
      "outputs": [
        {
          "data": {
            "text/plain": [
              "<matplotlib.legend.Legend at 0x1bac59f8438>"
            ]
          },
          "execution_count": 81,
          "metadata": {},
          "output_type": "execute_result"
        },
        {
          "data": {
            "image/png": "[encoded data removed]",
            "text/plain": [
              "<Figure size 432x288 with 1 Axes>"
            ]
          },
          "metadata": {
            "needs_background": "light"
          },
          "output_type": "display_data"
        }
      ],
      "source": [
        "plt.plot(history.history['loss'])\n",
        "plt.plot(history.history['val_loss'])\n",
        "plt.title('Model loss progress during training and validation')\n",
        "plt.xlabel('Epoch')\n",
        "plt.ylabel('Losses')\n",
        "plt.legend(['Training loss', 'Validation loss'])"
      ]
    },
    {
      "cell_type": "code",
      "execution_count": 82,
      "metadata": {
        "id": "S8DR5LnM4Xjz"
      },
      "outputs": [
        {
          "data": {
            "text/plain": [
              "<matplotlib.legend.Legend at 0x1bac6cd5160>"
            ]
          },
          "execution_count": 82,
          "metadata": {},
          "output_type": "execute_result"
        },
        {
          "data": {
            "image/png": "[encoded data removed]",
            "text/plain": [
              "<Figure size 432x288 with 1 Axes>"
            ]
          },
          "metadata": {
            "needs_background": "light"
          },
          "output_type": "display_data"
        }
      ],
      "source": [
        "plt.plot(history.history['accuracy'])\n",
        "plt.plot(history.history['val_accuracy'])\n",
        "plt.title('Model accuracy progress during training and validation')\n",
        "plt.xlabel('Epoch')\n",
        "plt.ylabel('Accuracy')\n",
        "plt.legend(['Training accuracy', 'Validation accuracy'])"
      ]
    },
    {
      "cell_type": "markdown",
      "metadata": {
        "id": "ClI0nAoj1vdk"
      },
      "source": [
        "## Previsões"
      ]
    },
    {
      "cell_type": "code",
      "execution_count": 107,
      "metadata": {
        "id": "oeGl73bb5J2D"
      },
      "outputs": [
        {
          "data": {
            "text/plain": [
              "[573, 70, 3643]"
            ]
          },
          "execution_count": 107,
          "metadata": {},
          "output_type": "execute_result"
        }
      ],
      "source": [
        "text = 'i hate you'\n",
        "text = tokenizer.encode(text)\n",
        "text"
      ]
    },
    {
      "cell_type": "code",
      "execution_count": 108,
      "metadata": {
        "id": "jYqKGfnZ5aGX"
      },
      "outputs": [
        {
          "data": {
            "text/plain": [
              "array([[False]])"
            ]
          },
          "execution_count": 108,
          "metadata": {},
          "output_type": "execute_result"
        }
      ],
      "source": [
        "Dcnn(np.array([text]), training=False).numpy() > 0.5"
      ]
    },
    {
      "cell_type": "code",
      "execution_count": null,
      "metadata": {},
      "outputs": [],
      "source": []
    }
  ],
  "metadata": {
    "accelerator": "TPU",
    "colab": {
      "provenance": []
    },
    "kernelspec": {
      "display_name": "Python 3",
      "name": "python3"
    },
    "language_info": {
      "codemirror_mode": {
        "name": "ipython",
        "version": 3
      },
      "file_extension": ".py",
      "mimetype": "text/x-python",
      "name": "python",
      "nbconvert_exporter": "python",
      "pygments_lexer": "ipython3",
      "version": "3.7.3"
    }
  },
  "nbformat": 4,
  "nbformat_minor": 0
}
